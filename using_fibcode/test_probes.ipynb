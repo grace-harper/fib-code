{
 "cells": [
  {
   "cell_type": "code",
   "execution_count": 1,
   "metadata": {},
   "outputs": [
    {
     "name": "stdout",
     "output_type": "stream",
     "text": [
      "[[1 1 0 1 0 1 1 0]\n",
      " [0 1 0 1 0 1 0 0]\n",
      " [0 0 1 1 1 0 0 0]\n",
      " [0 0 0 1 0 0 0 0]]\n"
     ]
    },
    {
     "ename": "TypeError",
     "evalue": "object of type 'int' has no len()",
     "output_type": "error",
     "traceback": [
      "\u001b[0;31m---------------------------------------------------------------------------\u001b[0m",
      "\u001b[0;31mTypeError\u001b[0m                                 Traceback (most recent call last)",
      "Cell \u001b[0;32mIn[1], line 116\u001b[0m\n\u001b[1;32m    113\u001b[0m             cinfo \u001b[39m=\u001b[39m json\u001b[39m.\u001b[39mload(f)\n\u001b[1;32m    114\u001b[0m         test_errors(logger, results_writer, cinfo)\n\u001b[0;32m--> 116\u001b[0m main(\u001b[39m\"\u001b[39;49m\u001b[39mtrash\u001b[39;49m\u001b[39m\"\u001b[39;49m)\n",
      "Cell \u001b[0;32mIn[1], line 114\u001b[0m, in \u001b[0;36mmain\u001b[0;34m(uniq)\u001b[0m\n\u001b[1;32m    112\u001b[0m \u001b[39mwith\u001b[39;00m \u001b[39mopen\u001b[39m(fileinfo, \u001b[39m\"\u001b[39m\u001b[39mr\u001b[39m\u001b[39m\"\u001b[39m) \u001b[39mas\u001b[39;00m f:\n\u001b[1;32m    113\u001b[0m     cinfo \u001b[39m=\u001b[39m json\u001b[39m.\u001b[39mload(f)\n\u001b[0;32m--> 114\u001b[0m test_errors(logger, results_writer, cinfo)\n",
      "Cell \u001b[0;32mIn[1], line 91\u001b[0m, in \u001b[0;36mtest_errors\u001b[0;34m(logger, results_writer, infodict)\u001b[0m\n\u001b[1;32m     89\u001b[0m labels \u001b[39m=\u001b[39m [\u001b[39m\"\u001b[39m\u001b[39mhori\u001b[39m\u001b[39m\"\u001b[39m, \u001b[39m\"\u001b[39m\u001b[39mverti\u001b[39m\u001b[39m\"\u001b[39m, \u001b[39m\"\u001b[39m\u001b[39mnorm\u001b[39m\u001b[39m\"\u001b[39m]\n\u001b[1;32m     90\u001b[0m good \u001b[39m=\u001b[39m [good_hori_delta, good_verti_delta, good_norm_delta]\n\u001b[0;32m---> 91\u001b[0m current \u001b[39m=\u001b[39m [run_decoder(logger, codeword, L_size, error_board, fb\u001b[39m.\u001b[39;49mfundamental_hori_probe_indx), \n\u001b[1;32m     92\u001b[0m            run_decoder(logger, codeword, L_size, error_board, fb\u001b[39m.\u001b[39mfundamental_verti_probe_indx), \n\u001b[1;32m     93\u001b[0m            run_decoder(logger, codeword, L_size, error_board, [fb\u001b[39m.\u001b[39mfundamental_hori_probe_indx, fb\u001b[39m.\u001b[39mfundamental_verti_probe_indx]\n\u001b[1;32m     94\u001b[0m )]\n\u001b[1;32m     97\u001b[0m \u001b[39mfor\u001b[39;00m l, g,v \u001b[39min\u001b[39;00m \u001b[39mzip\u001b[39m(labels, good, current):\n\u001b[1;32m     98\u001b[0m     \u001b[39massert\u001b[39;00m g \u001b[39m==\u001b[39m v, \u001b[39mf\u001b[39m\u001b[39m\"\u001b[39m\u001b[39m{\u001b[39;00ml\u001b[39m}\u001b[39;00m\u001b[39m FAILED with \u001b[39m\u001b[39m{\u001b[39;00mv\u001b[39m}\u001b[39;00m\u001b[39m instead of expected \u001b[39m\u001b[39m{\u001b[39;00mg\u001b[39m}\u001b[39;00m\u001b[39m\"\u001b[39m\n",
      "Cell \u001b[0;32mIn[1], line 66\u001b[0m, in \u001b[0;36mrun_decoder\u001b[0;34m(logger, given_codeword, L, given_error, probes)\u001b[0m\n\u001b[1;32m     64\u001b[0m error \u001b[39m=\u001b[39m copy\u001b[39m.\u001b[39mdeepcopy(given_error)\n\u001b[1;32m     65\u001b[0m decoder \u001b[39m=\u001b[39m ClassicFibDecoder(error, logger,probe_fundamental_indices\u001b[39m=\u001b[39mprobes)\n\u001b[0;32m---> 66\u001b[0m decoder\u001b[39m.\u001b[39;49mdecode_fib_code(meta_only\u001b[39m=\u001b[39;49m\u001b[39mTrue\u001b[39;49;00m)\n\u001b[1;32m     67\u001b[0m decoder\u001b[39m.\u001b[39mboard\u001b[39m.\u001b[39mshape \u001b[39m=\u001b[39m (L \u001b[39m/\u001b[39m\u001b[39m/\u001b[39m \u001b[39m2\u001b[39m, L)\n\u001b[1;32m     68\u001b[0m given_codeword\u001b[39m.\u001b[39mshape \u001b[39m=\u001b[39m (L \u001b[39m/\u001b[39m\u001b[39m/\u001b[39m \u001b[39m2\u001b[39m, L)\n",
      "File \u001b[0;32m~/correcting/Fib/ClassicFibInfo/fib-code/fib_code/classic_fib_decoder.py:418\u001b[0m, in \u001b[0;36mClassicFibDecoder.decode_fib_code\u001b[0;34m(self, meta_only)\u001b[0m\n\u001b[1;32m    416\u001b[0m \u001b[39mself\u001b[39m\u001b[39m.\u001b[39mfundamental_stab_faces\u001b[39m.\u001b[39mshape \u001b[39m=\u001b[39m \u001b[39mself\u001b[39m\u001b[39m.\u001b[39mno_bits\n\u001b[1;32m    417\u001b[0m prob_indices \u001b[39m=\u001b[39m copy\u001b[39m.\u001b[39mdeepcopy(\u001b[39mself\u001b[39m\u001b[39m.\u001b[39mprobe_fundamental_indices)\n\u001b[0;32m--> 418\u001b[0m probe_board_corrections \u001b[39m=\u001b[39m [np\u001b[39m.\u001b[39mzeros(\u001b[39mself\u001b[39m\u001b[39m.\u001b[39mno_bits, dtype\u001b[39m=\u001b[39m\u001b[39mint\u001b[39m)] \u001b[39m*\u001b[39m \u001b[39mlen\u001b[39;49m(\n\u001b[1;32m    419\u001b[0m     prob_indices\n\u001b[1;32m    420\u001b[0m )\n\u001b[1;32m    422\u001b[0m \u001b[39mwhile\u001b[39;00m (\n\u001b[1;32m    423\u001b[0m     (cur_all_syndrome \u001b[39m<\u001b[39m prev_all_syndrome \u001b[39mor\u001b[39;00m start_flag)\n\u001b[1;32m    424\u001b[0m     \u001b[39mand\u001b[39;00m cur_all_syndrome \u001b[39m!=\u001b[39m \u001b[39m0\u001b[39m\n\u001b[1;32m    425\u001b[0m     \u001b[39mand\u001b[39;00m meta_round_count \u001b[39m<\u001b[39m \u001b[39mself\u001b[39m\u001b[39m.\u001b[39mhalt\n\u001b[1;32m    426\u001b[0m ):\n\u001b[1;32m    427\u001b[0m     \u001b[39mprint\u001b[39m(\u001b[39m\"\u001b[39m\u001b[39mwhat the fuck \u001b[39m\u001b[39m\"\u001b[39m)\n",
      "\u001b[0;31mTypeError\u001b[0m: object of type 'int' has no len()"
     ]
    }
   ],
   "source": []
  }
 ],
 "metadata": {
  "kernelspec": {
   "display_name": "fibcode",
   "language": "python",
   "name": "python3"
  },
  "language_info": {
   "codemirror_mode": {
    "name": "ipython",
    "version": 3
   },
   "file_extension": ".py",
   "mimetype": "text/x-python",
   "name": "python",
   "nbconvert_exporter": "python",
   "pygments_lexer": "ipython3",
   "version": "3.10.9"
  },
  "orig_nbformat": 4,
  "vscode": {
   "interpreter": {
    "hash": "9f0362eea4520c889c3d4707d7a185ac89b46c07edfde8be4adae5082b6b14b7"
   }
  }
 },
 "nbformat": 4,
 "nbformat_minor": 2
}
