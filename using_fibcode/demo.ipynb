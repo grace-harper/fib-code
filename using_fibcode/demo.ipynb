{
 "cells": [
  {
   "cell_type": "code",
   "execution_count": 2,
   "metadata": {},
   "outputs": [],
   "source": [
    "from fib_code.error_generator import generate_swath_error\n",
    "from fib_code.code_generator import generate_init_code_word\n",
    "from fib_code.classic_fib_decoder import ClassicFibDecoder\n",
    "from fib_code.utils.logging_utils import new_logger_for_classic_fib_code_decoder\n",
    "\n",
    "import logging \n"
   ]
  },
  {
   "cell_type": "code",
   "execution_count": 4,
   "metadata": {},
   "outputs": [],
   "source": [
    "\n",
    "L = 4  # choose size of L, board will be size L//2 x L \n",
    "log_file_path = \"logs\"\n",
    "unique_code_logger_name = \"demo_code\"\n",
    "logger = new_logger_for_classic_fib_code_decoder(log_file_path, unique_code_logger_name,  logging.DEBUG)\n",
    "\n",
    "codeword = generate_init_code_word(L) # generate an initial codeword. The default one bit at bottom center and cellular automata rules upward\n",
    "error_board, error_mask = generate_swath_error(codeword, L//4, probability_of_error=0.75) # Add errors to your code! \n",
    "\n",
    "f = ClassicFibDecoder(error_board, logger) # give this class the the errored codeword \n",
    "\n",
    "f.decode_fib_code()\n",
    "f.board.shape = (L//2, L)\n",
    "#assert (f.board == codeword).all(), \"sadness\" "
   ]
  },
  {
   "cell_type": "code",
   "execution_count": 5,
   "metadata": {},
   "outputs": [
    {
     "name": "stdout",
     "output_type": "stream",
     "text": [
      "[[0 1 1 0]\n",
      " [1 1 0 0]]\n"
     ]
    }
   ],
   "source": [
    "f.board.shape = (L//2, L)\n",
    "print(f.board)"
   ]
  },
  {
   "cell_type": "code",
   "execution_count": 6,
   "metadata": {},
   "outputs": [
    {
     "data": {
      "text/plain": [
       "array([[1, 1, 1, 0],\n",
       "       [0, 1, 0, 0]])"
      ]
     },
     "execution_count": 6,
     "metadata": {},
     "output_type": "execute_result"
    }
   ],
   "source": [
    "codeword"
   ]
  }
 ],
 "metadata": {
  "kernelspec": {
   "display_name": "fibcode",
   "language": "python",
   "name": "python3"
  },
  "language_info": {
   "codemirror_mode": {
    "name": "ipython",
    "version": 3
   },
   "file_extension": ".py",
   "mimetype": "text/x-python",
   "name": "python",
   "nbconvert_exporter": "python",
   "pygments_lexer": "ipython3",
   "version": "3.10.9"
  },
  "orig_nbformat": 4,
  "vscode": {
   "interpreter": {
    "hash": "9f0362eea4520c889c3d4707d7a185ac89b46c07edfde8be4adae5082b6b14b7"
   }
  }
 },
 "nbformat": 4,
 "nbformat_minor": 2
}
