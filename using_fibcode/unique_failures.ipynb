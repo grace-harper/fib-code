{
 "cells": [
  {
   "cell_type": "code",
   "execution_count": 9,
   "metadata": {},
   "outputs": [],
   "source": [
    "from fib_code.error_generator import generate_swath_error\n",
    "from fib_code.code_generator import generate_init_code_word\n",
    "from fib_code.classic_fib_decoder import ClassicFibDecoder\n",
    "from fib_code.utils.logging_utils import new_logger_for_classic_fib_code_decoder\n",
    "\n",
    "import logging, pprint\n",
    "import copy\n"
   ]
  },
  {
   "cell_type": "code",
   "execution_count": 10,
   "metadata": {},
   "outputs": [],
   "source": [
    "def run_decoder(logger, given_codeword, L, given_error, only_hori, only_verti):\n",
    "    error = copy.deepcopy(given_error)\n",
    "    decoder = ClassicFibDecoder(error, logger)\n",
    "    decoder.decode_fib_code(only_hori=only_hori, only_verti=only_verti)\n",
    "    decoder.board.shape =   (L//2, L)\n",
    "    given_codeword.shape =  (L//2, L)\n",
    "    return  1 if (decoder.board == given_codeword).all() else 0 "
   ]
  },
  {
   "cell_type": "code",
   "execution_count": 11,
   "metadata": {},
   "outputs": [],
   "source": [
    "import copy\n",
    "log_folder_path = \"logs\"\n",
    "logger = new_logger_for_classic_fib_code_decoder(log_folder_path, \"FibCodeLogs\", logging.INFO) \n",
    "\n",
    "def test_errors(logger, Lstack=[16], pstack= [0.15, 0.2], denomstack= [3,4,5], round_count = 10):\n",
    "    results = {}\n",
    "\n",
    "    HORI = \"horizontal decoder\"\n",
    "    VERTI = \"vertical decoder\"\n",
    "    BOTH = \"both decoder\"\n",
    "    \n",
    "    round_size = \"rounds_size\"\n",
    "    success_rate = \"success_rate\"\n",
    "    results[HORI] = {}\n",
    "    results[VERTI] = {}\n",
    "    results[BOTH] = {}\n",
    "    \n",
    "    for ERROR_TYPE in [\"horizontal_errors\", \"vertical_errors\"]:\n",
    "        results[HORI][ERROR_TYPE] = {}\n",
    "        results[VERTI][ERROR_TYPE] = {}\n",
    "        results[BOTH][ERROR_TYPE] = {}\n",
    "    \n",
    "        for L in Lstack:\n",
    "            results[HORI][ERROR_TYPE][L] = {}\n",
    "            results[VERTI][ERROR_TYPE][L] = {}\n",
    "            results[BOTH][ERROR_TYPE][L] = {}\n",
    "            for p in pstack:\n",
    "                results[HORI][ERROR_TYPE][L][p] = {}\n",
    "                results[VERTI][ERROR_TYPE][L][p] = {}\n",
    "                results[BOTH][ERROR_TYPE][L] [p] = {}\n",
    "                for denom in denomstack:\n",
    "                    results[HORI][ERROR_TYPE][L][p] [denom]   = {round_size:round_count}\n",
    "                    results[VERTI][ERROR_TYPE][L][p][denom]   = {round_size:round_count}\n",
    "                    results[BOTH][ERROR_TYPE][L] [p][denom]  = {round_size:round_count}\n",
    " \n",
    "                    verti_success = 0\n",
    "                    hori_success = 0 \n",
    "                    norm_success = 0 \n",
    "                    tot = 0\n",
    "                    for i in range(round_count):\n",
    "                        logger.info(f\"Running {tot} run...{L}, {p}, {denom}, {i}... current info is hori_success:{hori_success}, verti_success:{verti_success}, norm_success{norm_success}\")\n",
    "                        codeword = generate_init_code_word(L) # generate an initial codeword. The default one bit at bottom center and cellular automata rules upward\n",
    "                        errors_are_vertical =  \"vertical\" in ERROR_TYPE\n",
    "                        error_board, verti_error_mask = generate_swath_error(codeword, L//denom, probability_of_error=p,is_vertical=errors_are_vertical) # Add errors to your code! \n",
    "                        hori_success +=  run_decoder(logger, codeword, L, error_board, True, False)\n",
    "                        verti_success += run_decoder(logger, codeword, L, error_board, False, True)\n",
    "                        norm_success += run_decoder(logger, codeword, L, error_board, False, False)\n",
    "            \n",
    "                    results[HORI][ERROR_TYPE][L][p] [denom][success_rate] =  hori_success/round_count\n",
    "                    results[VERTI][ERROR_TYPE][L][p][denom][success_rate] =  verti_success/round_count\n",
    "                    results[BOTH][ERROR_TYPE][L] [p][denom][success_rate] =  norm_success/round_count\n",
    "                    \n",
    "    return results"
   ]
  },
  {
   "cell_type": "code",
   "execution_count": 13,
   "metadata": {},
   "outputs": [],
   "source": [
    "res = test_errors(logger)"
   ]
  },
  {
   "cell_type": "code",
   "execution_count": 15,
   "metadata": {},
   "outputs": [
    {
     "data": {
      "text/plain": [
       "{'horizontal_errors': {16: {0.15: {3: {'rounds_size': 10, 'success_rate': 0.2},\n",
       "    4: {'rounds_size': 10, 'success_rate': 0.7},\n",
       "    5: {'rounds_size': 10, 'success_rate': 0.8}},\n",
       "   0.2: {3: {'rounds_size': 10, 'success_rate': 0.1},\n",
       "    4: {'rounds_size': 10, 'success_rate': 0.2},\n",
       "    5: {'rounds_size': 10, 'success_rate': 0.5}}}},\n",
       " 'vertical_errors': {16: {0.15: {3: {'rounds_size': 10, 'success_rate': 1.0},\n",
       "    4: {'rounds_size': 10, 'success_rate': 1.0},\n",
       "    5: {'rounds_size': 10, 'success_rate': 1.0}},\n",
       "   0.2: {3: {'rounds_size': 10, 'success_rate': 1.0},\n",
       "    4: {'rounds_size': 10, 'success_rate': 1.0},\n",
       "    5: {'rounds_size': 10, 'success_rate': 1.0}}}}}"
      ]
     },
     "execution_count": 15,
     "metadata": {},
     "output_type": "execute_result"
    }
   ],
   "source": [
    "HORI = \"horizontal decoder\"\n",
    "VERTI = \"vertical decoder\"\n",
    "BOTH = \"both decoder\"\n",
    "\n",
    "round_size = \"rounds_size\"\n",
    "success_rate = \"success_rate\"\n",
    "\n",
    "\n",
    "res[VERTI]"
   ]
  },
  {
   "cell_type": "code",
   "execution_count": null,
   "metadata": {},
   "outputs": [],
   "source": []
  }
 ],
 "metadata": {
  "kernelspec": {
   "display_name": "fibcode",
   "language": "python",
   "name": "python3"
  },
  "language_info": {
   "codemirror_mode": {
    "name": "ipython",
    "version": 3
   },
   "file_extension": ".py",
   "mimetype": "text/x-python",
   "name": "python",
   "nbconvert_exporter": "python",
   "pygments_lexer": "ipython3",
   "version": "3.10.9"
  },
  "orig_nbformat": 4,
  "vscode": {
   "interpreter": {
    "hash": "9f0362eea4520c889c3d4707d7a185ac89b46c07edfde8be4adae5082b6b14b7"
   }
  }
 },
 "nbformat": 4,
 "nbformat_minor": 2
}
