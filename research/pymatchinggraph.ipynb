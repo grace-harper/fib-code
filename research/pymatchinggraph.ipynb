{
    "cells": [
        {
            "cell_type": "code",
            "execution_count": 5,
            "metadata": {},
            "outputs": [],
            "source": [
                "import numpy as np \n",
                "import networkx as nx \n",
                "# rustworkx visualizer:  https://qiskit.org/documentation/retworkx/apiref/rustworkx.visualization.graphviz_draw.html#rustworkx.visualization.graphviz_draw\n",
                "import rustworkx as rx \n",
                "from rustworkx.visualization import graphviz_draw\n",
                "import pymatching as pm \n",
                "def pprint(matrix):\n",
                "    print('\\n'.join(['\\t'.join([str(cell) for cell in row]) for row in matrix]))"
            ]
        },
        {
            "cell_type": "code",
            "execution_count": 6,
            "metadata": {},
            "outputs": [
                {
                    "name": "stdout",
                    "output_type": "stream",
                    "text": [
                        "0\t2\t4\t6\n",
                        "8\t10\t12\t14\n"
                    ]
                }
            ],
            "source": [
                "\n",
                "board = np.arange(0, (4**2)//2) * 2\n",
                "board.shape = (4//2, 4)\n",
                "pprint(board)"
            ]
        },
        {
            "cell_type": "code",
            "execution_count": 7,
            "metadata": {},
            "outputs": [],
            "source": [
                "bindx2fibindx = {}\n",
                "fibindx2bindx = {}\n"
            ]
        },
        {
            "cell_type": "code",
            "execution_count": 14,
            "metadata": {},
            "outputs": [
                {
                    "data": {
                        "image/png": "[encoded data removed]",
                        "text/plain": [
                            "<PIL.PngImagePlugin.PngImageFile image mode=RGBA size=611x276>"
                        ]
                    },
                    "execution_count": 14,
                    "metadata": {},
                    "output_type": "execute_result"
                }
            ],
            "source": [
                "g = rx.PyGraph()\n",
                "\n",
                "# TODO NOW can re-use pygraph each time just using different syndromes -- could even cache syndromes\n",
                "\n",
                "fibindx2gindx = {}\n",
                "\n",
                "\n",
                "weight=\"weight\"\n",
                "\"\"\"\n",
                "[[{'time': 0, 'qubits': [2], 'is_boundary': True, 'element': 1},\n",
                "{'time': 0, 'qubits': [1, 2], 'is_boundary': False, 'element': 1}],\n",
                "{'time': 0, 'qubits': [2], 'is_boundary': True, 'element': 1},\n",
                "{'time': 1, 'qubits': [1, 2], 'is_boundary': False, 'element': 1}],\n",
                "\"\"\"\n",
                "# one syndrome is a parity check between 4 qubits \n",
                "# don't know if pymatching could handle\n",
                "{'time': 0, 'qubits': [0,1,2,3], 'is_boundary': True, 'element': 1},\n",
                "# can I avoid using time? \n",
                "{'qubits': [0,1,2,3], 'is_boundary': True, 'element': 1}\n",
                "# can I avoid boundary?  Does this have to be the expected output? I'm a little scared.  # ask Ben or James something\n",
                "{'qubits': [0,1,2,3],  'element': 1} \n",
                "# element is gonna be syndrome indx?: \n",
                "{'qubits': [0,1,2,3],  'element': 1} \n",
                "# can I get away w/ empty nodes? \n",
                "\n",
                "\n",
                "# # convert syndrome to Pymatching format \n",
                "# gindx = g.add_node({\"qubits\": [0,1,2,5], 'element': 1})\n",
                "# fibindx2gindx[1] = gindx\n",
                "\n",
                "# gindx = g.add_node({\"qubits\": [7,4,5,0], 'element': 4})\n",
                "# fibindx2gindx[4] = gindx\n",
                "\n",
                "# gindx = g.add_node({\"qubits\": [4,5,6,1], 'element':5 })\n",
                "# fibindx2gindx[5] = gindx\n",
                "\n",
                "# gindx = g.add_node({\"qubits\": [5,6,7,2], 'element':6 })\n",
                "# fibindx2gindx[6] = gindx\n",
                "\n",
                "gindx = g.add_node({'element': 1})\n",
                "fibindx2gindx[1] = gindx\n",
                "\n",
                "gindx = g.add_node({'element': 4})\n",
                "fibindx2gindx[4] = gindx\n",
                "\n",
                "gindx = g.add_node({'element': 5})\n",
                "fibindx2gindx[5] = gindx\n",
                "\n",
                "gindx = g.add_node({'element': 6})\n",
                "fibindx2gindx[6] = gindx\n",
                "\n",
                "# TEST only a couple of the actual valid edges:\n",
                "# Does pymatching need the \"error on x causes this edge\" information? \n",
                "g.add_edge(fibindx2gindx[4], fibindx2gindx[5], {\"fault_ids\":{7}}) # error on 0 hits stabs on 1 \n",
                "g.add_edge(fibindx2gindx[6], fibindx2gindx[4], {\"fault_ids\":{8}}) # error on 0 hits stabs on 4 & 5\n",
                "g.add_edge(fibindx2gindx[1], fibindx2gindx[4], {\"fault_ids\":{0}}) # error on 0 hits stabs on 1 & 4\n",
                "g.add_edge(fibindx2gindx[1], fibindx2gindx[5],  {\"fault_ids\":{4}}) # error on 1 hits stabs on 1 & 5\n",
                "# optionally instead of fibindx2gindx could use the following\n",
                "# graph_indx = g.nodes().index(2)\n",
                "\n",
                "graphviz_draw(g, method='sfdp')    "
            ]
        },
        {
            "cell_type": "code",
            "execution_count": 15,
            "metadata": {},
            "outputs": [],
            "source": [
                "pydec = pm.Matching(g)"
            ]
        },
        {
            "cell_type": "code",
            "execution_count": 16,
            "metadata": {},
            "outputs": [
                {
                    "name": "stdout",
                    "output_type": "stream",
                    "text": [
                        "[1 0 1 0]\n"
                    ]
                }
            ],
            "source": [
                "stab_syndrome = np.zeros(4, dtype=int)\n",
                "stab_syndrome[fibindx2gindx[1]] = 1 # try to light 1 \n",
                "stab_syndrome[fibindx2gindx[5]] = 1 # try to light 1 \n",
                "print(stab_syndrome)"
            ]
        },
        {
            "cell_type": "code",
            "execution_count": 18,
            "metadata": {},
            "outputs": [
                {
                    "name": "stdout",
                    "output_type": "stream",
                    "text": [
                        "[0 0 0 0 1 0 0 0 0]\n"
                    ]
                }
            ],
            "source": [
                "res = pydec.decode(stab_syndrome)\n",
                "# how does it have logical output if I only gave it a graph of syndromes? \n",
                "print(res)\n",
                "\n",
                "# # If each edge in the matching graph is assigned a unique integer in its fault_ids attribute, \n",
                "# # then the locations of nonzero entries in correction correspond to the edges in the MWPM. \n",
                "# graph_edges = g.edges()\n",
                "# ans = [graph_edges[eindx] for eindx in range(len(res)) if res[eindx] == 1] # does eindx always line up w graph \n",
                "# # So just check the index of res that corresponds to the edge crossing the probe and if 1, put 1 else 0 ?????? \n",
                "# # I don't remember what being an edge in the matching graph from Wootons\n",
                "# print(ans[0])\n",
                "# print(type(ans[0])) #this is largest fault id + 1 w/ 1s at the fault ids \n",
                "# print(g.edge_list())"
            ]
        },
        {
            "cell_type": "code",
            "execution_count": 21,
            "metadata": {},
            "outputs": [
                {
                    "data": {
                        "text/plain": [
                            "True"
                        ]
                    },
                    "execution_count": 21,
                    "metadata": {},
                    "output_type": "execute_result"
                }
            ],
            "source": [
                "{'element': 1} in g.nodes()"
            ]
        },
        {
            "cell_type": "code",
            "execution_count": 40,
            "metadata": {},
            "outputs": [
                {
                    "data": {
                        "text/plain": [
                            "'Each fault id corresponds to a self-inverse fault that is flipped when the corresponding edge is flipped. \\nThese self-inverse faults could correspond to physical Pauli errors (physical frame changes) or\\nto the logical observables that are flipped by the fault (a logical frame change, equivalent to \\nan obersvable ID in an error instruction in a Stim detector error model). \\nThe fault_ids attribute was previously named qubit_id in an earlier version of PyMatching, \\nand qubit_id is still accepted instead of fault_ids in order to maintain backward compatibility. \\n'"
                        ]
                    },
                    "execution_count": 40,
                    "metadata": {},
                    "output_type": "execute_result"
                }
            ],
            "source": [
                "\"\"\"Each fault id corresponds to a self-inverse fault that is flipped when the corresponding edge is flipped. \n",
                "These self-inverse faults could correspond to physical Pauli errors (physical frame changes) or\n",
                "to the logical observables that are flipped by the fault (a logical frame change, equivalent to \n",
                "an obersvable ID in an error instruction in a Stim detector error model). \n",
                "The fault_ids attribute was previously named qubit_id in an earlier version of PyMatching, \n",
                "and qubit_id is still accepted instead of fault_ids in order to maintain backward compatibility. \n",
                "\"\"\""
            ]
        },
        {
            "cell_type": "code",
            "execution_count": 33,
            "metadata": {},
            "outputs": [
                {
                    "name": "stdout",
                    "output_type": "stream",
                    "text": [
                        "0\n",
                        "2\n",
                        "len res: 9\n"
                    ]
                }
            ],
            "source": [
                "print(fibindx2gindx[1])\n",
                "print(fibindx2gindx[5])\n",
                "print(f\"len res: {len(res)}\")"
            ]
        },
        {
            "cell_type": "code",
            "execution_count": null,
            "metadata": {},
            "outputs": [],
            "source": []
        }
    ],
    "metadata": {
        "kernelspec": {
            "display_name": "Python 3.10.6 ('classic_fib')",
            "language": "python",
            "name": "python3"
        },
        "language_info": {
            "codemirror_mode": {
                "name": "ipython",
                "version": 3
            },
            "file_extension": ".py",
            "mimetype": "text/x-python",
            "name": "python",
            "nbconvert_exporter": "python",
            "pygments_lexer": "ipython3",
            "version": "3.10.6"
        },
        "orig_nbformat": 4,
        "vscode": {
            "interpreter": {
                "hash": "0cfd8349d9068e779fdd3d4489e9520d0db8583399452dfa1d4de39e4fa227d6"
            }
        }
    },
    "nbformat": 4,
    "nbformat_minor": 2
}
