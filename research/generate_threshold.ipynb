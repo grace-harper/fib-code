{
 "cells": [
  {
   "cell_type": "code",
   "execution_count": 1,
   "metadata": {},
   "outputs": [],
   "source": [
    "from fib_code.error_generator import generate_swath_error\n",
    "from fib_code.code_generator import generate_init_code_word\n",
    "from fib_code.classic_fib_decoder import ClassicFibDecoder\n",
    "from fib_code.utils.logging_utils import new_logger_for_classic_fib_code_decoder\n",
    "import logging\n",
    "import numpy as np"
   ]
  },
  {
   "cell_type": "code",
   "execution_count": 2,
   "metadata": {},
   "outputs": [
    {
     "name": "stdout",
     "output_type": "stream",
     "text": [
      "(0.03111111111111111, 1.0)\n",
      "(0.052222222222222225, 1.0)\n"
     ]
    },
    {
     "ename": "KeyboardInterrupt",
     "evalue": "",
     "output_type": "error",
     "traceback": [
      "\u001b[0;31m---------------------------------------------------------------------------\u001b[0m",
      "\u001b[0;31mKeyboardInterrupt\u001b[0m                         Traceback (most recent call last)",
      "Cell \u001b[0;32mIn [2], line 33\u001b[0m\n\u001b[1;32m     31\u001b[0m error_board, error_mask \u001b[39m=\u001b[39m generate_swath_error(codeword, L, probability_of_error\u001b[39m=\u001b[39mp) \u001b[39m# setting width to L and vertical=True makes iid noise \u001b[39;00m\n\u001b[1;32m     32\u001b[0m f \u001b[39m=\u001b[39m ClassicFibDecoder(error_board) \u001b[39m# give this class the errored codeword \u001b[39;00m\n\u001b[0;32m---> 33\u001b[0m f\u001b[39m.\u001b[39;49mdecode_fib_code()\n\u001b[1;32m     34\u001b[0m f\u001b[39m.\u001b[39mboard\u001b[39m.\u001b[39mshape \u001b[39m=\u001b[39m (L\u001b[39m/\u001b[39m\u001b[39m/\u001b[39m\u001b[39m2\u001b[39m, L)\n\u001b[1;32m     35\u001b[0m \u001b[39mif\u001b[39;00m (f\u001b[39m.\u001b[39mboard \u001b[39m==\u001b[39m codeword)\u001b[39m.\u001b[39mall():\n",
      "File \u001b[0;32m~/correcting/Fib/fib-code/fib_code/classic_fib_decoder.py:387\u001b[0m, in \u001b[0;36mdecode_fib_code\u001b[0;34m(self)\u001b[0m\n\u001b[1;32m    383\u001b[0m hori_probe_indx = self.shift_by_y_scalar(hori_probe_indx)\n\u001b[1;32m    384\u001b[0m verti_probe_indx = self.shift_by_y_scalar(verti_probe_indx)\n\u001b[1;32m    386\u001b[0m for x_offset in range(self.L):\n\u001b[0;32m--> 387\u001b[0m     # self.logger.info(f\"\\n\\ncurrently on round:\\n{round_count}\")\n\u001b[1;32m    388\u001b[0m     parity_check_matrix = self.shift_parity_mat_by_x(\n\u001b[1;32m    389\u001b[0m         parity_check_matrix\n\u001b[1;32m    390\u001b[0m     )\n\u001b[1;32m    391\u001b[0m     self.fundamental_stab_faces = self.shift_by_x(\n\u001b[1;32m    392\u001b[0m         self.fundamental_stab_faces\n\u001b[1;32m    393\u001b[0m     )\n",
      "File \u001b[0;32m~/correcting/Fib/fib-code/fib_code/classic_fib_decoder.py:234\u001b[0m, in \u001b[0;36mshift_parity_mat_by_x\u001b[0;34m(self, parity_mat, power)\u001b[0m\n\u001b[1;32m    232\u001b[0m \u001b[39mdef\u001b[39;00m \u001b[39mshift_parity_mat_by_x\u001b[39m(\u001b[39mself\u001b[39m, parity_mat, power\u001b[39m=\u001b[39m\u001b[39m1\u001b[39m):\n\u001b[1;32m    233\u001b[0m     \u001b[39m\"\u001b[39m\u001b[39mEDITS PARITY MAT\u001b[39m\u001b[39m\"\u001b[39m\n\u001b[0;32m--> 234\u001b[0m     \u001b[39mfor\u001b[39;00m row \u001b[39min\u001b[39;00m \u001b[39mrange\u001b[39m(\u001b[39mlen\u001b[39m(parity_mat)):\n\u001b[1;32m    235\u001b[0m         parity_mat[row] \u001b[39m=\u001b[39m \u001b[39mself\u001b[39m\u001b[39m.\u001b[39mshift_by_x(parity_mat[row], power\u001b[39m=\u001b[39mpower)\n\u001b[1;32m    236\u001b[0m     \u001b[39mreturn\u001b[39;00m parity_mat\n",
      "File \u001b[0;32m~/correcting/Fib/fib-code/fib_code/classic_fib_decoder.py:199\u001b[0m, in \u001b[0;36mshift_by_x\u001b[0;34m(self, bitarr, power)\u001b[0m\n\u001b[1;32m    196\u001b[0m \u001b[39mdef\u001b[39;00m \u001b[39mshift_by_x\u001b[39m(\u001b[39mself\u001b[39m, bitarr, power\u001b[39m=\u001b[39m\u001b[39m1\u001b[39m):\n\u001b[1;32m    197\u001b[0m     \u001b[39m# shifts every entry in board matrix right by 1 w/ wrap around\u001b[39;00m\n\u001b[1;32m    198\u001b[0m     power \u001b[39m=\u001b[39m power \u001b[39m%\u001b[39m \u001b[39mself\u001b[39m\u001b[39m.\u001b[39mL\n\u001b[0;32m--> 199\u001b[0m     Hx \u001b[39m=\u001b[39m np\u001b[39m.\u001b[39mlinalg\u001b[39m.\u001b[39mmatrix_power(\u001b[39mself\u001b[39m\u001b[39m.\u001b[39mHx, power)\n\u001b[1;32m    200\u001b[0m     sol \u001b[39m=\u001b[39m np\u001b[39m.\u001b[39mmatmul(Hx, bitarr)\n\u001b[1;32m    201\u001b[0m     sol \u001b[39m=\u001b[39m sol\u001b[39m.\u001b[39mastype(\u001b[39mint\u001b[39m)\n",
      "\u001b[0;31mKeyboardInterrupt\u001b[0m: "
     ]
    }
   ],
   "source": [
    "# test iid\n",
    "\n",
    "\n",
    "\"\"\" \n",
    "L=8: [ #(error_prob, fail_rate, num_shots) ]\n",
    "L=16:[]\n",
    "\n",
    "[\n",
    "    [8, (),()],\n",
    "    [16,()],\n",
    "    ...\n",
    "]\n",
    "\n",
    "\"\"\"\n",
    "\n",
    "all_L =  [32, 64]\n",
    "\n",
    "# threshold_logger = new_logger_for_classic_fib_code_decoder(0, f\"ThresholdLog\", logging.INFO) # too many logs rip x_x\n",
    "res_file = \"results.txt\"\n",
    "\n",
    "results = []\n",
    "num_shots = 1000\n",
    "for L in all_L:\n",
    "    l_row =[]\n",
    "    for p in np.linspace(0.01,0.2,10):\n",
    "        if L == 32 and p == 0.01:\n",
    "            continue\n",
    "        success_no = 0\n",
    "        for round in range(num_shots):\n",
    "            codeword = generate_init_code_word(L) # generate an initial codeword. The default one bit at bottom center and cellular automata rules upward\n",
    "            error_board, error_mask = generate_swath_error(codeword, L, probability_of_error=p) # setting width to L and vertical=True makes iid noise \n",
    "            f = ClassicFibDecoder(error_board) # give this class the errored codeword \n",
    "            f.decode_fib_code()\n",
    "            f.board.shape = (L//2, L)\n",
    "            if (f.board == codeword).all():\n",
    "                success_no += 1 \n",
    "        p_info = (p, success_no/num_shots)\n",
    "        l_row.append(p_info)\n",
    "        print(p_info)\n",
    "        \n",
    "    with open(res_file, \"a\") as f:\n",
    "        f.write(\"\\n\")\n",
    "        f.write(str(L))\n",
    "        f.write(str(l_row))\n",
    "    results.append(l_row)\n",
    "    "
   ]
  },
  {
   "cell_type": "code",
   "execution_count": null,
   "metadata": {},
   "outputs": [],
   "source": []
  },
  {
   "cell_type": "code",
   "execution_count": null,
   "metadata": {},
   "outputs": [],
   "source": []
  }
 ],
 "metadata": {
  "kernelspec": {
   "display_name": "Python 3.10.6 ('classic_fib')",
   "language": "python",
   "name": "python3"
  },
  "language_info": {
   "codemirror_mode": {
    "name": "ipython",
    "version": 3
   },
   "file_extension": ".py",
   "mimetype": "text/x-python",
   "name": "python",
   "nbconvert_exporter": "python",
   "pygments_lexer": "ipython3",
   "version": "3.10.6"
  },
  "orig_nbformat": 4,
  "vscode": {
   "interpreter": {
    "hash": "0cfd8349d9068e779fdd3d4489e9520d0db8583399452dfa1d4de39e4fa227d6"
   }
  }
 },
 "nbformat": 4,
 "nbformat_minor": 2
}
